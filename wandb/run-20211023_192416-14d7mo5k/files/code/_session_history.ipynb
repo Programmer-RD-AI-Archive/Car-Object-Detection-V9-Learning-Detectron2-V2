{
 "cells": [
  {
   "cell_type": "code",
   "execution_count": 1,
   "id": "d13caebb",
   "metadata": {},
   "outputs": [],
   "source": [
    "import torch,torchvision\n",
    "import detectron2\n",
    "from detectron2.utils.logger import setup_logger\n",
    "setup_logger()\n",
    "import numpy as np\n",
    "import pandas as pd\n",
    "import wandb\n",
    "import os, json, cv2, random\n",
    "from detectron2 import model_zoo\n",
    "from detectron2.engine import DefaultPredictor,DefaultTrainer\n",
    "from detectron2.config import get_cfg\n",
    "from detectron2.structures import BoxMode\n",
    "from tqdm import tqdm\n",
    "import matplotlib.pyplot as plt\n",
    "from detectron2.utils.visualizer import ColorMode\n",
    "from detectron2.evaluation import COCOEvaluator, inference_on_dataset\n",
    "from detectron2.data import build_detection_test_loader\n",
    "from detectron2.utils.visualizer import Visualizer\n",
    "from detectron2.data import MetadataCatalog, DatasetCatalog\n",
    "PROJECT_NAME = 'Car-Object-Detection-V9-Learning-Detectron2-V2'"
   ]
  },
  {
   "cell_type": "code",
   "execution_count": 2,
   "id": "573cfd92",
   "metadata": {},
   "outputs": [],
   "source": [
    "data = pd.read_csv('./data.csv')"
   ]
  },
  {
   "cell_type": "code",
   "execution_count": 3,
   "id": "5e6cc2a6",
   "metadata": {},
   "outputs": [],
   "source": [
    "info = data.iloc[0]"
   ]
  },
  {
   "cell_type": "code",
   "execution_count": 4,
   "id": "e543a45b",
   "metadata": {},
   "outputs": [],
   "source": [
    "img = cv2.imread(f'./data/{info[\"image\"]}')\n",
    "xmin = info['xmin']\n",
    "ymin = info['ymin']\n",
    "xmax = info['xmax']\n",
    "ymax = info['ymax']"
   ]
  },
  {
   "cell_type": "code",
   "execution_count": 5,
   "id": "89b110d2",
   "metadata": {},
   "outputs": [
    {
     "name": "stdout",
     "output_type": "stream",
     "text": [
      "(281.2590449, 187.0350708, 327.7279305, 223.225547)"
     ]
    }
   ],
   "source": [
    "xmin,ymin,xmax,ymax"
   ]
  },
  {
   "cell_type": "code",
   "execution_count": 6,
   "id": "e802f9cc",
   "metadata": {},
   "outputs": [],
   "source": [
    "x = round(xmin)\n",
    "y = round(ymin)\n",
    "w = round(xmax - xmin)\n",
    "h = round(ymax - ymin)"
   ]
  },
  {
   "cell_type": "code",
   "execution_count": 7,
   "id": "a0a330c8",
   "metadata": {},
   "outputs": [
    {
     "name": "stdout",
     "output_type": "stream",
     "text": [
      "(281, 187, 46, 36)"
     ]
    }
   ],
   "source": [
    "x,y,w,h"
   ]
  },
  {
   "cell_type": "code",
   "execution_count": 8,
   "id": "05a13f0d",
   "metadata": {},
   "outputs": [],
   "source": [
    "crop = img[y:y+h,x:x+w]"
   ]
  },
  {
   "cell_type": "code",
   "execution_count": 9,
   "id": "89487f1f",
   "metadata": {},
   "outputs": [
    {
     "name": "stdout",
     "output_type": "stream",
     "text": [
      "<matplotlib.image.AxesImage at 0x7f0cae4f7160>"
     ]
    }
   ],
   "source": [
    "plt.imshow(crop)"
   ]
  },
  {
   "cell_type": "code",
   "execution_count": 10,
   "id": "1914dd22",
   "metadata": {},
   "outputs": [
    {
     "name": "stdout",
     "output_type": "stream",
     "text": [
      "True"
     ]
    }
   ],
   "source": [
    "cv2.imwrite('./crop.png',crop)"
   ]
  },
  {
   "cell_type": "code",
   "execution_count": 11,
   "id": "fb0c7dcf",
   "metadata": {},
   "outputs": [
    {
     "name": "stdout",
     "output_type": "stream",
     "text": [
      "<matplotlib.image.AxesImage at 0x7f0cabbedbb0>"
     ]
    }
   ],
   "source": [
    "plt.imshow(cv2.rectangle(img,(x,y),(x+w,y+h),(200,0,0),2))"
   ]
  },
  {
   "cell_type": "code",
   "execution_count": 12,
   "id": "b56b7862",
   "metadata": {},
   "outputs": [
    {
     "name": "stdout",
     "output_type": "stream",
     "text": [
      "True"
     ]
    }
   ],
   "source": [
    "cv2.imwrite('./box.png',cv2.rectangle(img,(x,y),(x+w,y+h),(200,0,0),2))"
   ]
  },
  {
   "cell_type": "code",
   "execution_count": 13,
   "id": "10dac4cb",
   "metadata": {},
   "outputs": [],
   "source": [
    "def load_data():\n",
    "    if 'data.npy' in os.listdir('./'):\n",
    "        return np.load('data.npy',allow_pickle=True)\n",
    "    records = []\n",
    "    for i in tqdm(range(len(data))):\n",
    "        info = data.iloc[i]\n",
    "        record = {}\n",
    "        record['height'],record['width'] = cv2.imread(f'./data/{info[\"image\"]}').shape[:2]\n",
    "        record['file_name'] = f'./data/{info[\"image\"]}'\n",
    "        record['image_id'] = i\n",
    "        record['annotations'] = [\n",
    "            {\n",
    "                'bbox':[info['xmin'],info['ymin'],info['xmax'],info['ymax']],\n",
    "                'bbox_mode':BoxMode.XYXY_ABS,\n",
    "                'category_id':0\n",
    "            }\n",
    "        ]\n",
    "        records.append(record)\n",
    "    np.save('./data.npy',records)\n",
    "    return records"
   ]
  },
  {
   "cell_type": "code",
   "execution_count": 14,
   "id": "f4e9a306",
   "metadata": {},
   "outputs": [],
   "source": [
    "labels = ['Car']"
   ]
  },
  {
   "cell_type": "code",
   "execution_count": 15,
   "id": "9854dc31",
   "metadata": {},
   "outputs": [],
   "source": [
    "DatasetCatalog.register('data',lambda : load_data())\n",
    "MetadataCatalog.get('data').set(thing_classes=labels)\n",
    "metadata = MetadataCatalog.get('data')"
   ]
  },
  {
   "cell_type": "code",
   "execution_count": 16,
   "id": "6ddf1c09",
   "metadata": {},
   "outputs": [],
   "source": [
    "model = \"COCO-Detection/faster_rcnn_R_50_C4_1x.yaml\""
   ]
  },
  {
   "cell_type": "code",
   "execution_count": 17,
   "id": "7ed53743",
   "metadata": {},
   "outputs": [
    {
     "data": {
      "text/html": [
       "\n",
       "                    Syncing run <strong><a href=\"https://wandb.ai/ranuga-d/Car-Object-Detection-V9-Learning-Detectron2-V2/runs/14d7mo5k\" target=\"_blank\">baseline</a></strong> to <a href=\"https://wandb.ai/ranuga-d/Car-Object-Detection-V9-Learning-Detectron2-V2\" target=\"_blank\">Weights & Biases</a> (<a href=\"https://docs.wandb.com/integrations/jupyter.html\" target=\"_blank\">docs</a>).<br/>\n",
       "\n",
       "                "
      ],
      "text/plain": [
       "<IPython.core.display.HTML object>"
      ]
     },
     "metadata": {},
     "output_type": "display_data"
    }
   ],
   "source": [
    "wandb.init(project=PROJECT_NAME,name='baseline')\n",
    "cfg = get_cfg()\n",
    "cfg.merge_from_file(model_zoo.get_config_file(model))\n",
    "cfg.DATASETS.TRAIN = ('data')\n",
    "cfg.DATASETS.TEST = ()\n",
    "cfg.SOLVER.BASE_LR = 0.00025\n",
    "cfg.SOLVER.STEPS = []\n",
    "cfg.SOLVER.MAX_ITER = 500\n",
    "cfg.SOLVER.IMS_PER_BATCH = 2\n",
    "cfg.MODEL.ROI_HEADS.NUM_CLASSES = len(labels)\n",
    "cfg.MODEL.ROI_HEADS.BATCH_SIZE_PER_IMAGE = 64\n",
    "cfg.MODEL.WEIGHTS = model_zoo.get_checkpoint_url(model)\n",
    "trainer = DefaultTrainer(cfg)\n",
    "trainer.resume_or_load(resume=False)\n",
    "trainer.train()\n",
    "predictor = DefaultPredictor(cfg)\n",
    "evaluator = COCOEvaluator('data',output_dir='./output/')\n",
    "val_loader = build_detection_test_loader(cfg,'data')\n",
    "metrics = inference_on_dataset(predictor.model,val_loader,evaluator)\n",
    "wandb.log(metrics)\n",
    "wandb.finish()"
   ]
  }
 ],
 "metadata": {
  "kernelspec": {
   "display_name": "Python 3",
   "language": "python",
   "name": "python3"
  },
  "language_info": {
   "codemirror_mode": {
    "name": "ipython",
    "version": 3
   },
   "file_extension": ".py",
   "mimetype": "text/x-python",
   "name": "python",
   "nbconvert_exporter": "python",
   "pygments_lexer": "ipython3",
   "version": "3.8.12"
  }
 },
 "nbformat": 4,
 "nbformat_minor": 5
}
